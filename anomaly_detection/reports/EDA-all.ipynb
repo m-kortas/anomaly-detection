{
 "cells": [
  {
   "cell_type": "markdown",
   "id": "8cca3e05-66a9-46a8-863e-0d2caeaa7eab",
   "metadata": {},
   "source": [
    "## Prepare data"
   ]
  },
  {
   "cell_type": "code",
   "execution_count": 1,
   "id": "73551811-5c23-4c9b-9951-81ab7f3bd19b",
   "metadata": {},
   "outputs": [
    {
     "name": "stdout",
     "output_type": "stream",
     "text": [
      "Current working directory: /Users/magdalenakortas/Desktop/magda-ds-onboarding/anomaly_detection/reports\n",
      "Current working directory: /Users/magdalenakortas/Desktop/magda-ds-onboarding/anomaly_detection\n"
     ]
    }
   ],
   "source": [
    "import os\n",
    "\n",
    "# Print the current working directory\n",
    "print(\"Current working directory: {0}\".format(os.getcwd()))\n",
    "\n",
    "os.chdir(\"../\")\n",
    "\n",
    "print(\"Current working directory: {0}\".format(os.getcwd()))"
   ]
  },
  {
   "cell_type": "code",
   "execution_count": 2,
   "id": "1c9f7877-0e6b-44fb-9575-62a1a8a2b71f",
   "metadata": {},
   "outputs": [],
   "source": [
    "import utils\n",
    "\n",
    "path = \"data/ex\""
   ]
  },
  {
   "cell_type": "code",
   "execution_count": 3,
   "id": "57cfebc9-f6c1-45e3-957a-6ff26e0c467f",
   "metadata": {},
   "outputs": [
    {
     "name": "stdout",
     "output_type": "stream",
     "text": [
      "loaded:  NE016_10_export_20211210021525\n"
     ]
    }
   ],
   "source": [
    "final = utils.prepare_raw_data(path)"
   ]
  },
  {
   "cell_type": "code",
   "execution_count": 4,
   "id": "ea3a53e8-f783-415b-ad7f-ccbc16867b9a",
   "metadata": {},
   "outputs": [],
   "source": [
    "final_train = final[final[\"date\"] <= \"2021-06-01\"]"
   ]
  },
  {
   "cell_type": "code",
   "execution_count": 5,
   "id": "56c72290-c4ad-43a4-b5ce-f34c67db80e2",
   "metadata": {},
   "outputs": [],
   "source": [
    "final_abi = final[final[\"date\"] >= \"2021-11-25\"]"
   ]
  },
  {
   "cell_type": "code",
   "execution_count": 6,
   "id": "c0e78186-f928-47a7-9389-4b9ce1f40fe2",
   "metadata": {},
   "outputs": [],
   "source": [
    "final_train.to_csv(\"data/processed/processed_NE016_10_data.csv\")"
   ]
  },
  {
   "cell_type": "code",
   "execution_count": 7,
   "id": "7449d81d-50df-4a92-81e1-daf76266087e",
   "metadata": {},
   "outputs": [],
   "source": [
    "final_abi.to_csv(\"data/processed/abi.csv\")"
   ]
  },
  {
   "cell_type": "markdown",
   "id": "d48eabb8-d259-4587-bdab-788ebbfa6c93",
   "metadata": {},
   "source": [
    "## Data Analysis"
   ]
  },
  {
   "cell_type": "code",
   "execution_count": 9,
   "id": "74370d62-06e0-4f06-b2fd-f8449c1c658f",
   "metadata": {},
   "outputs": [],
   "source": [
    "from pandas_profiling import ProfileReport"
   ]
  },
  {
   "cell_type": "code",
   "execution_count": 10,
   "id": "7a123b51-b46e-4b21-93c1-f1a7782f8056",
   "metadata": {},
   "outputs": [
    {
     "name": "stderr",
     "output_type": "stream",
     "text": [
      "/opt/anaconda3/envs/tf2/lib/python3.7/site-packages/pandas/core/frame.py:5047: SettingWithCopyWarning: \n",
      "A value is trying to be set on a copy of a slice from a DataFrame\n",
      "\n",
      "See the caveats in the documentation: https://pandas.pydata.org/pandas-docs/stable/user_guide/indexing.html#returning-a-view-versus-a-copy\n",
      "  errors=errors,\n"
     ]
    },
    {
     "data": {
      "application/vnd.jupyter.widget-view+json": {
       "model_id": "4c6b52d56a9a462ea3d8a189053114b3",
       "version_major": 2,
       "version_minor": 0
      },
      "text/plain": [
       "Summarize dataset:   0%|          | 0/5 [00:00<?, ?it/s]"
      ]
     },
     "metadata": {},
     "output_type": "display_data"
    },
    {
     "data": {
      "application/vnd.jupyter.widget-view+json": {
       "model_id": "f82baabccd9c400ca3d9ebd2f0e2b5a2",
       "version_major": 2,
       "version_minor": 0
      },
      "text/plain": [
       "Generate report structure:   0%|          | 0/1 [00:00<?, ?it/s]"
      ]
     },
     "metadata": {},
     "output_type": "display_data"
    },
    {
     "data": {
      "application/vnd.jupyter.widget-view+json": {
       "model_id": "14d48a706fb84e0ab56c877c597bd847",
       "version_major": 2,
       "version_minor": 0
      },
      "text/plain": [
       "Render HTML:   0%|          | 0/1 [00:00<?, ?it/s]"
      ]
     },
     "metadata": {},
     "output_type": "display_data"
    },
    {
     "data": {
      "application/vnd.jupyter.widget-view+json": {
       "model_id": "39cb836d02254bda8c55b5b48c1a1f58",
       "version_major": 2,
       "version_minor": 0
      },
      "text/plain": [
       "Export report to file:   0%|          | 0/1 [00:00<?, ?it/s]"
      ]
     },
     "metadata": {},
     "output_type": "display_data"
    }
   ],
   "source": [
    "profile = ProfileReport(final_train, title=\"Sites Report\")\n",
    "profile.to_file(\"reports/NE016.html\")"
   ]
  },
  {
   "cell_type": "code",
   "execution_count": 11,
   "id": "346f07b4-aaa7-468f-9ec8-3747f08896c8",
   "metadata": {},
   "outputs": [
    {
     "data": {
      "application/vnd.jupyter.widget-view+json": {
       "model_id": "db4a67713d6b4363b74fc5febb95f640",
       "version_major": 2,
       "version_minor": 0
      },
      "text/plain": [
       "Summarize dataset:   0%|          | 0/5 [00:00<?, ?it/s]"
      ]
     },
     "metadata": {},
     "output_type": "display_data"
    },
    {
     "data": {
      "application/vnd.jupyter.widget-view+json": {
       "model_id": "f7bf304ad95843faa8214c836135721c",
       "version_major": 2,
       "version_minor": 0
      },
      "text/plain": [
       "Generate report structure:   0%|          | 0/1 [00:00<?, ?it/s]"
      ]
     },
     "metadata": {},
     "output_type": "display_data"
    },
    {
     "data": {
      "application/vnd.jupyter.widget-view+json": {
       "model_id": "4a77ab8e61ce4ac8b4266c7f339503a6",
       "version_major": 2,
       "version_minor": 0
      },
      "text/plain": [
       "Render HTML:   0%|          | 0/1 [00:00<?, ?it/s]"
      ]
     },
     "metadata": {},
     "output_type": "display_data"
    },
    {
     "data": {
      "application/vnd.jupyter.widget-view+json": {
       "model_id": "73afd43464ae4266ae23b0d13a82c365",
       "version_major": 2,
       "version_minor": 0
      },
      "text/plain": [
       "Export report to file:   0%|          | 0/1 [00:00<?, ?it/s]"
      ]
     },
     "metadata": {},
     "output_type": "display_data"
    }
   ],
   "source": [
    "outliers = final_train[final_train[\"targets\"] == 1]\n",
    "profile = ProfileReport(outliers, title=\"Sites Outliers Report\")\n",
    "profile.to_file(\"reports/outl_NE016.html\")"
   ]
  },
  {
   "cell_type": "raw",
   "id": "66cdc88b-a2ae-4dfd-a890-5c1eb51c109d",
   "metadata": {},
   "source": [
    "SITES = [\n",
    "    # \"NE001CALa_17_data\",\n",
    "    \"NE003CAL_17_data\",\n",
    "    \"NE004CAL_17_data\",\n",
    "    \"NE006a_10_data\",\n",
    "    # \"NE008_data\",\n",
    "    \"NE009_10_data\",\n",
    "    \"NE010_10_data\",\n",
    "    \"NE011_10_data\",\n",
    "    \"NE012_11_data\",\n",
    "    # \"NE012_20_data\",\n",
    "    \"NE016_10_data\",\n",
    "    # \"NE017_10_data\",\n",
    "]"
   ]
  },
  {
   "cell_type": "raw",
   "id": "ddfc3f4d-8431-4ce9-a964-0064e634656c",
   "metadata": {},
   "source": [
    "for x in SITES:\n",
    "    try:\n",
    "        print(x)\n",
    "        print(final[final[x] == 1][\"date\"].max())\n",
    "        print(final[final[x] == 1][\"date\"].min())\n",
    "    except:\n",
    "        print(\"no site\")"
   ]
  }
 ],
 "metadata": {
  "kernelspec": {
   "display_name": "tf2",
   "language": "python",
   "name": "tf2"
  },
  "language_info": {
   "codemirror_mode": {
    "name": "ipython",
    "version": 3
   },
   "file_extension": ".py",
   "mimetype": "text/x-python",
   "name": "python",
   "nbconvert_exporter": "python",
   "pygments_lexer": "ipython3",
   "version": "3.7.12"
  },
  "toc-autonumbering": true,
  "widgets": {
   "application/vnd.jupyter.widget-state+json": {
    "state": {},
    "version_major": 2,
    "version_minor": 0
   }
  }
 },
 "nbformat": 4,
 "nbformat_minor": 5
}
