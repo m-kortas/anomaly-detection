{
 "cells": [
  {
   "cell_type": "code",
   "execution_count": 1,
   "id": "4a242cad-463d-438e-bc33-f85bd7482753",
   "metadata": {},
   "outputs": [
    {
     "name": "stdout",
     "output_type": "stream",
     "text": [
      "Current working directory: /Users/magdalenakortas/Desktop/magda-ds-onboarding/anomaly_detection/other_research\n",
      "Current working directory: /Users/magdalenakortas/Desktop/magda-ds-onboarding/anomaly_detection\n"
     ]
    }
   ],
   "source": [
    "import os\n",
    "\n",
    "# Print the current working directory\n",
    "print(\"Current working directory: {0}\".format(os.getcwd()))\n",
    "\n",
    "os.chdir(\"../\")\n",
    "\n",
    "print(\"Current working directory: {0}\".format(os.getcwd()))"
   ]
  },
  {
   "cell_type": "code",
   "execution_count": 13,
   "id": "424f7bb7-a7fc-4ba2-95ee-b93dfc8089d4",
   "metadata": {},
   "outputs": [],
   "source": [
    "import numpy as np\n",
    "import utils\n",
    "from sklearn.ensemble import IsolationForest\n",
    "from tensorflow import random\n",
    "\n",
    "outliers_fraction = float(0.2)"
   ]
  },
  {
   "cell_type": "markdown",
   "id": "981a87ff-4977-4d8c-b011-f498ec212a14",
   "metadata": {},
   "source": [
    "The IsolationForest ‘isolates’ observations by randomly selecting a feature and then randomly selecting a split value between the maximum and minimum values of the selected feature."
   ]
  },
  {
   "cell_type": "code",
   "execution_count": 14,
   "id": "d7425630-37a0-409f-89d1-56418f854344",
   "metadata": {},
   "outputs": [],
   "source": [
    "RANDOM_SEED = 42\n",
    "PATH = \"data/processed/processed_NE016_10_data.csv\"\n",
    "\n",
    "np.random.seed(RANDOM_SEED)\n",
    "random.set_seed(RANDOM_SEED)\n",
    "\n",
    "df_train, df_val, df_test = utils.read_split_data(PATH)"
   ]
  },
  {
   "cell_type": "markdown",
   "id": "dca632db-7fad-4a2b-8ada-6eea8cdace2b",
   "metadata": {},
   "source": [
    "## Isolation forest"
   ]
  },
  {
   "cell_type": "code",
   "execution_count": 15,
   "id": "b58bc9c7-69f2-4354-a2a9-d6c51a30adfc",
   "metadata": {},
   "outputs": [
    {
     "name": "stderr",
     "output_type": "stream",
     "text": [
      "/opt/anaconda3/envs/tf2/lib/python3.7/site-packages/sklearn/base.py:446: UserWarning: X does not have valid feature names, but IsolationForest was fitted with feature names\n",
      "  \"X does not have valid feature names, but\"\n"
     ]
    },
    {
     "data": {
      "text/plain": [
       "IsolationForest(contamination=0.2, random_state=42)"
      ]
     },
     "execution_count": 15,
     "metadata": {},
     "output_type": "execute_result"
    }
   ],
   "source": [
    "model = IsolationForest(contamination=outliers_fraction, random_state=RANDOM_SEED)\n",
    "model.fit(df_train[utils.FEATURE_LIST])"
   ]
  },
  {
   "cell_type": "code",
   "execution_count": 16,
   "id": "2751ec21-66b3-4c0e-9add-831c2878223d",
   "metadata": {},
   "outputs": [],
   "source": [
    "df_test[\"anomaly\"] = model.predict(df_test[utils.FEATURE_LIST])"
   ]
  },
  {
   "cell_type": "markdown",
   "id": "a448337f-ab84-4d95-9ac4-2cafae9e8ab5",
   "metadata": {},
   "source": [
    "## Evaluate results"
   ]
  },
  {
   "cell_type": "code",
   "execution_count": 17,
   "id": "c53c5496-3dda-4394-9d9e-33b4bece1c18",
   "metadata": {},
   "outputs": [],
   "source": [
    "y_pred = np.array(df_test[\"anomaly\"])\n",
    "y_pred[y_pred == 1] = 0\n",
    "y_pred[y_pred == -1] = 1\n",
    "y_test = np.array(df_test[utils.TARGET_COL])"
   ]
  },
  {
   "cell_type": "code",
   "execution_count": 18,
   "id": "49e62894-ca7a-40e6-ab30-6c832c6b0068",
   "metadata": {},
   "outputs": [
    {
     "name": "stdout",
     "output_type": "stream",
     "text": [
      "Prediction binary_accuracy (mapped) = 87.31037740801007%\n",
      "Prediction F-score (mapped) = 0.3869658932420439\n"
     ]
    },
    {
     "data": {
      "image/png": "[encoded data removed]",
      "text/plain": [
       "<Figure size 1584x720 with 2 Axes>"
      ]
     },
     "metadata": {
      "needs_background": "light"
     },
     "output_type": "display_data"
    },
    {
     "name": "stdout",
     "output_type": "stream",
     "text": [
      "\n",
      " Classification Report : \n",
      "               precision    recall  f1-score   support\n",
      "\n",
      "           0       0.95      0.91      0.93     34838\n",
      "           1       0.33      0.47      0.39      3264\n",
      "\n",
      "    accuracy                           0.87     38102\n",
      "   macro avg       0.64      0.69      0.66     38102\n",
      "weighted avg       0.90      0.87      0.88     38102\n",
      "\n"
     ]
    },
    {
     "data": {
      "text/plain": [
       "(0.8731037740801008, 0.3869658932420439)"
      ]
     },
     "execution_count": 18,
     "metadata": {},
     "output_type": "execute_result"
    }
   ],
   "source": [
    "utils.show_metrics(y_pred, y_test)"
   ]
  },
  {
   "cell_type": "code",
   "execution_count": null,
   "id": "9fbee8cd-7324-4a5e-b1da-28ca99a019f9",
   "metadata": {},
   "outputs": [],
   "source": []
  }
 ],
 "metadata": {
  "kernelspec": {
   "display_name": "tf2",
   "language": "python",
   "name": "tf2"
  },
  "language_info": {
   "codemirror_mode": {
    "name": "ipython",
    "version": 3
   },
   "file_extension": ".py",
   "mimetype": "text/x-python",
   "name": "python",
   "nbconvert_exporter": "python",
   "pygments_lexer": "ipython3",
   "version": "3.7.9"
  },
  "widgets": {
   "application/vnd.jupyter.widget-state+json": {
    "state": {},
    "version_major": 2,
    "version_minor": 0
   }
  }
 },
 "nbformat": 4,
 "nbformat_minor": 5
}
