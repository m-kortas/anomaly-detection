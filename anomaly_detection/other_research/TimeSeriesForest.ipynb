{
 "cells": [
  {
   "cell_type": "code",
   "execution_count": 1,
   "id": "4a242cad-463d-438e-bc33-f85bd7482753",
   "metadata": {},
   "outputs": [
    {
     "name": "stdout",
     "output_type": "stream",
     "text": [
      "Current working directory: /Users/magdalenakortas/Desktop/magda-ds-onboarding/anomaly_detection/other_research\n",
      "Current working directory: /Users/magdalenakortas/Desktop/magda-ds-onboarding/anomaly_detection\n"
     ]
    }
   ],
   "source": [
    "import os\n",
    "\n",
    "# Print the current working directory\n",
    "print(\"Current working directory: {0}\".format(os.getcwd()))\n",
    "\n",
    "os.chdir(\"../\")\n",
    "\n",
    "print(\"Current working directory: {0}\".format(os.getcwd()))"
   ]
  },
  {
   "cell_type": "code",
   "execution_count": 3,
   "id": "424f7bb7-a7fc-4ba2-95ee-b93dfc8089d4",
   "metadata": {},
   "outputs": [],
   "source": [
    "import numpy as np\n",
    "import utils\n",
    "from sklearn.preprocessing import RobustScaler\n",
    "from sktime.classification.interval_based import TimeSeriesForestClassifier\n",
    "from sktime.datatypes._panel._convert import (\n",
    "    from_2d_array_to_nested,\n",
    "    from_nested_to_2d_array,\n",
    ")\n",
    "\n",
    "RANDOM_SEED = 42\n",
    "\n",
    "np.random.seed(RANDOM_SEED)"
   ]
  },
  {
   "cell_type": "markdown",
   "id": "8e1f0d74-4092-461c-9f15-06de2d8f579a",
   "metadata": {},
   "source": [
    "## Read data"
   ]
  },
  {
   "cell_type": "code",
   "execution_count": 5,
   "id": "28720850-e2e0-4f0e-98d0-ee7f988879e6",
   "metadata": {},
   "outputs": [],
   "source": [
    "RANDOM_SEED = 42\n",
    "PATH = \"data/processed/processed_NE016_10_data.csv\"\n",
    "df_train, df_val, df_test = utils.read_split_data(PATH)"
   ]
  },
  {
   "cell_type": "markdown",
   "id": "c890b9a5-595f-44fd-8cf7-3b6217420bf6",
   "metadata": {},
   "source": [
    "## Process data"
   ]
  },
  {
   "cell_type": "code",
   "execution_count": 6,
   "id": "b038abf8-1e80-4703-ad1f-89c1124e5167",
   "metadata": {},
   "outputs": [],
   "source": [
    "scaler = RobustScaler()\n",
    "scaler = scaler.fit(df_train[utils.FEATURE_LIST])\n",
    "\n",
    "dataframes = [df_train, df_test]\n",
    "for df in dataframes:\n",
    "    df[utils.FEATURE_LIST] = scaler.transform(df[utils.FEATURE_LIST])"
   ]
  },
  {
   "cell_type": "code",
   "execution_count": 7,
   "id": "11c92759-002b-4e17-b9f6-e63b5c34de3c",
   "metadata": {},
   "outputs": [],
   "source": [
    "X_nested = from_2d_array_to_nested(df_train[utils.FEATURE_LIST])"
   ]
  },
  {
   "cell_type": "code",
   "execution_count": 8,
   "id": "274a651b-8f68-46d7-ae65-e3d39ddd9afb",
   "metadata": {},
   "outputs": [],
   "source": [
    "X_test_nested = from_2d_array_to_nested(df_test[utils.FEATURE_LIST])"
   ]
  },
  {
   "cell_type": "markdown",
   "id": "dca632db-7fad-4a2b-8ada-6eea8cdace2b",
   "metadata": {},
   "source": [
    "## Time Series forest"
   ]
  },
  {
   "cell_type": "code",
   "execution_count": 9,
   "id": "b58bc9c7-69f2-4354-a2a9-d6c51a30adfc",
   "metadata": {},
   "outputs": [
    {
     "data": {
      "text/plain": [
       "TimeSeriesForestClassifier()"
      ]
     },
     "execution_count": 9,
     "metadata": {},
     "output_type": "execute_result"
    }
   ],
   "source": [
    "model = TimeSeriesForestClassifier()\n",
    "model.fit(X_nested, df_train[utils.TARGET_COL])"
   ]
  },
  {
   "cell_type": "code",
   "execution_count": 10,
   "id": "2751ec21-66b3-4c0e-9add-831c2878223d",
   "metadata": {},
   "outputs": [],
   "source": [
    "df_test[\"anomaly\"] = model.predict(X_test_nested)"
   ]
  },
  {
   "cell_type": "code",
   "execution_count": 11,
   "id": "dfb8a1d8-07cf-4dde-9d30-3256d9411058",
   "metadata": {},
   "outputs": [],
   "source": [
    "y_test = df_test[utils.TARGET_COL]\n",
    "y_pred = df_test[\"anomaly\"]"
   ]
  },
  {
   "cell_type": "markdown",
   "id": "a448337f-ab84-4d95-9ac4-2cafae9e8ab5",
   "metadata": {},
   "source": [
    "## Evaluate results"
   ]
  },
  {
   "cell_type": "code",
   "execution_count": 13,
   "id": "2eabf2ec-3344-4b94-9606-ea6df0c29f13",
   "metadata": {},
   "outputs": [
    {
     "name": "stdout",
     "output_type": "stream",
     "text": [
      "Prediction binary_accuracy (mapped) = 92.44659073014539%\n",
      "Prediction F-score (mapped) = 0.333487725798981\n"
     ]
    },
    {
     "data": {
      "image/png": "[encoded data removed]",
      "text/plain": [
       "<Figure size 1584x720 with 2 Axes>"
      ]
     },
     "metadata": {
      "needs_background": "light"
     },
     "output_type": "display_data"
    },
    {
     "name": "stdout",
     "output_type": "stream",
     "text": [
      "\n",
      " Classification Report : \n",
      "               precision    recall  f1-score   support\n",
      "\n",
      "           0       0.93      0.99      0.96     34838\n",
      "           1       0.68      0.22      0.33      3264\n",
      "\n",
      "    accuracy                           0.92     38102\n",
      "   macro avg       0.81      0.61      0.65     38102\n",
      "weighted avg       0.91      0.92      0.91     38102\n",
      "\n"
     ]
    },
    {
     "data": {
      "text/plain": [
       "(0.924465907301454, 0.333487725798981)"
      ]
     },
     "execution_count": 13,
     "metadata": {},
     "output_type": "execute_result"
    }
   ],
   "source": [
    "utils.show_metrics(y_pred, y_test)"
   ]
  }
 ],
 "metadata": {
  "kernelspec": {
   "display_name": "tf2",
   "language": "python",
   "name": "tf2"
  },
  "language_info": {
   "codemirror_mode": {
    "name": "ipython",
    "version": 3
   },
   "file_extension": ".py",
   "mimetype": "text/x-python",
   "name": "python",
   "nbconvert_exporter": "python",
   "pygments_lexer": "ipython3",
   "version": "3.7.9"
  },
  "widgets": {
   "application/vnd.jupyter.widget-state+json": {
    "state": {},
    "version_major": 2,
    "version_minor": 0
   }
  }
 },
 "nbformat": 4,
 "nbformat_minor": 5
}
