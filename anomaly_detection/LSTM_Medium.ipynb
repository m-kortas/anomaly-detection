{
 "cells": [
  {
   "cell_type": "code",
   "execution_count": null,
   "id": "1d3a36df-edf8-4af9-9b07-15211a416f6d",
   "metadata": {},
   "outputs": [],
   "source": [
    "import os\n",
    "import matplotlib.pyplot as plt\n",
    "import numpy as np\n",
    "import pandas as pd\n",
    "import utils\n",
    "from sklearn.preprocessing import MinMaxScaler\n",
    "from tensorflow import random, keras\n",
    "from tensorflow.keras.layers import LSTM, Dense\n",
    "from tensorflow.keras.models import Sequential\n",
    "\n",
    "print(\"Current working directory: {0}\".format(os.getcwd()))"
   ]
  },
  {
   "cell_type": "markdown",
   "id": "1dddaa9a-f595-4dcf-af3e-4626ef3f389c",
   "metadata": {},
   "source": [
    "## Read data"
   ]
  },
  {
   "cell_type": "code",
   "execution_count": null,
   "id": "ed1ec6e2-d04d-4efc-a9f1-e10c0af66931",
   "metadata": {},
   "outputs": [],
   "source": [
    "RANDOM_SEED = 42\n",
    "PATH = \"data/processed/processed_NE016_10_data.csv\"\n",
    "\n",
    "np.random.seed(RANDOM_SEED)\n",
    "random.set_seed(RANDOM_SEED)"
   ]
  },
  {
   "cell_type": "code",
   "execution_count": null,
   "id": "3e29e8dc-878c-497f-bf1f-63a0d64279b2",
   "metadata": {},
   "outputs": [],
   "source": [
    "df_train, df_val, df_test = utils.read_split_data(PATH)"
   ]
  },
  {
   "cell_type": "code",
   "execution_count": null,
   "id": "611dbd6a-2f72-493b-a9f5-217361d79513",
   "metadata": {},
   "outputs": [],
   "source": [
    "train_X = df_train[utils.FEATURE_LIST].fillna(0)\n",
    "train_y = df_train[\"targets\"].values\n",
    "test_X = df_test[utils.FEATURE_LIST].fillna(0)\n",
    "test_y = df_test[\"targets\"].values\n",
    "val_X = df_val[utils.FEATURE_LIST].fillna(0)\n",
    "val_y = df_val[\"targets\"].values"
   ]
  },
  {
   "cell_type": "markdown",
   "id": "740d4815-bb66-4c90-a2d9-1eed93c5d8fc",
   "metadata": {},
   "source": [
    "## Transform features"
   ]
  },
  {
   "cell_type": "code",
   "execution_count": null,
   "id": "8ea88039-c697-44a3-8100-90ec2d0f2dc3",
   "metadata": {},
   "outputs": [],
   "source": [
    "from pickle import dump\n",
    "\n",
    "scaler = MinMaxScaler().fit(train_X)\n",
    "dump(scaler, open(\"models/pump/scaler.pkl\", \"wb\"))\n",
    "\n",
    "\n",
    "def prepare_Xy(X):\n",
    "    X = scaler.transform(X)\n",
    "    X = X.reshape((X.shape[0], 1, X.shape[1]))\n",
    "    return X\n",
    "\n",
    "\n",
    "train_X = prepare_Xy(train_X)\n",
    "test_X = prepare_Xy(test_X)\n",
    "val_X = prepare_Xy(val_X)"
   ]
  },
  {
   "cell_type": "code",
   "execution_count": null,
   "id": "5cca3502-bdcf-4f3c-8ae5-297cf80cf2f3",
   "metadata": {},
   "outputs": [],
   "source": [
    "def plot_signal_hat(Y_test, Y_hat):\n",
    "    fig = plt.figure()\n",
    "    plt.plot(Y_hat)\n",
    "    plt.plot(Y_test)\n",
    "    plt.legend([\"target\", \"prediction\"])\n",
    "    plt.title(\"Pediction on test data\")\n",
    "    plt.show()"
   ]
  },
  {
   "cell_type": "markdown",
   "id": "0435c292-578b-40bb-9b9e-952a27a15feb",
   "metadata": {},
   "source": [
    "## Model architecture"
   ]
  },
  {
   "cell_type": "code",
   "execution_count": null,
   "id": "fbc1d99a-6fff-4090-8ca0-0131d8a994ef",
   "metadata": {},
   "outputs": [],
   "source": [
    "in_shape = train_X.shape\n",
    "\n",
    "model = Sequential()\n",
    "model.add(\n",
    "    LSTM(\n",
    "        10,\n",
    "        activation=\"relu\",\n",
    "        input_shape=(in_shape[1], in_shape[2]),\n",
    "        return_sequences=True,\n",
    "    )\n",
    ")  # ,\n",
    "# kernel_regularizer = tf.keras.regularizers.L1L2(0.01, 0.01)\n",
    "# model.add(Dropout(0.3))\n",
    "model.add(LSTM(10, activation=\"relu\"))\n",
    "model.add(Dense(units=1))\n",
    "checkpoint_path = \"models/pump/cp.ckpt\"\n",
    "# model.load_weights(checkpoint_path)\n",
    "\n",
    "model.compile(\n",
    "    loss=\"mean_squared_error\", optimizer=keras.optimizers.Adam(),\n",
    ")\n",
    "\n",
    "model.summary()"
   ]
  },
  {
   "cell_type": "raw",
   "id": "8d22b90b-1ed7-4667-b1f9-64b3eb7674bd",
   "metadata": {},
   "source": [
    "in_shape = train_X.shape\n",
    "\n",
    "inputs = tf.keras.Input(shape=(in_shape[1], in_shape[2]))\n",
    "x = LSTM(42, activation=\"relu\", return_sequences=True,)(inputs)\n",
    "x = LSTM(42, activation=\"relu\")(x)\n",
    "out_signal = Dense(1, name=\"signal_out\")(x)\n",
    "\n",
    "model = tf.keras.Model(inputs=inputs, outputs=[out_signal])\n",
    "checkpoint_path = \"models/pump/cp.ckpt\"\n",
    "# model.load_weights(checkpoint_path)\n",
    "\n",
    "model.compile(\n",
    "    loss=\"mean_squared_error\", optimizer=keras.optimizers.Adam(),\n",
    ")\n",
    "\n",
    "model.summary()"
   ]
  },
  {
   "cell_type": "code",
   "execution_count": null,
   "id": "3d777ebe-4082-4849-b808-45b6222dc5cd",
   "metadata": {},
   "outputs": [],
   "source": [
    "callbacks = [\n",
    "    keras.callbacks.ReduceLROnPlateau(\n",
    "        monitor=\"val_loss\", factor=0.5, patience=2, min_lr=0.01\n",
    "    ),\n",
    "    keras.callbacks.EarlyStopping(monitor=\"val_loss\", patience=2),\n",
    "    keras.callbacks.ModelCheckpoint(\n",
    "        monitor=\"val_loss\", filepath=checkpoint_path, verbose=1,\n",
    "    ),\n",
    "]"
   ]
  },
  {
   "cell_type": "code",
   "execution_count": null,
   "id": "1c6d3cc3-5d5b-4fe6-a1ae-15983adf0a1d",
   "metadata": {},
   "outputs": [],
   "source": [
    "round(len(train_X) / 10)"
   ]
  },
  {
   "cell_type": "markdown",
   "id": "4c60a7cc-d437-4774-94d8-400b11585a70",
   "metadata": {},
   "source": [
    "## Model training"
   ]
  },
  {
   "cell_type": "code",
   "execution_count": null,
   "id": "532b6d9e-ff5a-4e65-b8e2-94d54ac72be6",
   "metadata": {},
   "outputs": [],
   "source": [
    "history = model.fit(\n",
    "    train_X,\n",
    "    train_y,\n",
    "    epochs=500,\n",
    "    batch_size=100,\n",
    "    validation_data=(val_X, val_y),\n",
    "    callbacks=callbacks,\n",
    ")"
   ]
  },
  {
   "cell_type": "code",
   "execution_count": null,
   "id": "d69644c5-ad58-4585-95a5-77dd043a9e4b",
   "metadata": {},
   "outputs": [],
   "source": [
    "model.save(\"models/pump/\")"
   ]
  },
  {
   "cell_type": "markdown",
   "id": "39c7e087-ceb7-4ae4-9a4f-1be1cc741172",
   "metadata": {},
   "source": [
    "## Model Prediction"
   ]
  },
  {
   "cell_type": "code",
   "execution_count": null,
   "id": "32640e06-d671-44ed-860d-249a2fe5c028",
   "metadata": {},
   "outputs": [],
   "source": [
    "yhat = model.predict_classes(test_X)"
   ]
  },
  {
   "cell_type": "code",
   "execution_count": null,
   "id": "b4e6264a-6043-4336-b8f7-34fb40ba9f8a",
   "metadata": {},
   "outputs": [],
   "source": [
    "yhat = yhat / yhat.max()\n",
    "plot_signal_hat(yhat, test_y)"
   ]
  },
  {
   "cell_type": "code",
   "execution_count": null,
   "id": "b6c3bafc-88d8-4545-9000-13e41b57ba84",
   "metadata": {},
   "outputs": [],
   "source": [
    "yhat[yhat <= 0.5] = 0  # thresolds\n",
    "yhat[yhat > 0.5] = 1\n",
    "plot_signal_hat(yhat, test_y)"
   ]
  },
  {
   "cell_type": "code",
   "execution_count": null,
   "id": "7b41b9e6-4c46-47f3-afc1-cdb3f402e1a4",
   "metadata": {},
   "outputs": [],
   "source": [
    "df_test[\"pred_temp\"] = yhat\n",
    "plot_signal_hat(df_test[\"pred_temp\"], df_test[\"targets\"])"
   ]
  },
  {
   "cell_type": "code",
   "execution_count": null,
   "id": "ba76bc48-8d88-4365-bed9-01126a08190d",
   "metadata": {},
   "outputs": [],
   "source": [
    "utils.show_metrics(df_test[\"pred_temp\"], df_test[\"targets\"])"
   ]
  },
  {
   "cell_type": "markdown",
   "id": "82841fb4-cd50-4cea-bec8-176398dc2d1d",
   "metadata": {},
   "source": [
    "## Testing on Abi's data"
   ]
  },
  {
   "cell_type": "code",
   "execution_count": null,
   "id": "ba87909e-7a07-4a97-a60b-f7af4ae76086",
   "metadata": {},
   "outputs": [],
   "source": [
    "df_abi = pd.read_csv(\"data/processed/abi.csv\", header=0)"
   ]
  },
  {
   "cell_type": "code",
   "execution_count": null,
   "id": "60d06b96-17c8-4304-a335-4f49b335456c",
   "metadata": {},
   "outputs": [],
   "source": [
    "abi_X = df_abi[utils.FEATURE_LIST].fillna(0)\n",
    "abi_Y = df_abi[\"targets\"].values\n",
    "abi_X = prepare_Xy(abi_X)\n",
    "yhat2 = model.predict(abi_X)"
   ]
  },
  {
   "cell_type": "code",
   "execution_count": null,
   "id": "1d83f844-c992-408c-9d2f-fbeb84ef8165",
   "metadata": {},
   "outputs": [],
   "source": [
    "yhat2"
   ]
  },
  {
   "cell_type": "code",
   "execution_count": null,
   "id": "1b9f8d6a-0d1a-4267-8d45-6ba7205fc276",
   "metadata": {},
   "outputs": [],
   "source": [
    "yhat2 = yhat2 / yhat2.max()\n",
    "plot_signal_hat(yhat2[200:1800], abi_Y[200:1800])"
   ]
  },
  {
   "cell_type": "code",
   "execution_count": null,
   "id": "6f34c924-f764-406b-bd65-dccfd5385ac1",
   "metadata": {},
   "outputs": [],
   "source": [
    "yhat2[yhat2 <= 0.6] = 0  # thresholds\n",
    "yhat2[yhat2 > 0.6] = 1\n",
    "plot_signal_hat(yhat2[200:1800], abi_Y[200:1800])"
   ]
  },
  {
   "cell_type": "code",
   "execution_count": null,
   "id": "86462579-356c-4309-bb6e-67bb26cd90a1",
   "metadata": {},
   "outputs": [],
   "source": [
    "df_abi[\"pred_temp\"] = yhat2"
   ]
  },
  {
   "cell_type": "code",
   "execution_count": null,
   "id": "2dacc915-7d7e-4abb-87ec-4304eed359ee",
   "metadata": {},
   "outputs": [],
   "source": [
    "plot_signal_hat(\n",
    "    df_abi[\"pred_temp\"][200:1800], df_abi[\"Raw Average Velocity (m/s)\"][200:1800]\n",
    ")"
   ]
  }
 ],
 "metadata": {
  "kernelspec": {
   "display_name": "Python 3 (ipykernel)",
   "language": "python",
   "name": "python3"
  },
  "language_info": {
   "codemirror_mode": {
    "name": "ipython",
    "version": 3
   },
   "file_extension": ".py",
   "mimetype": "text/x-python",
   "name": "python",
   "nbconvert_exporter": "python",
   "pygments_lexer": "ipython3",
   "version": "3.8.5"
  },
  "widgets": {
   "application/vnd.jupyter.widget-state+json": {
    "state": {},
    "version_major": 2,
    "version_minor": 0
   }
  }
 },
 "nbformat": 4,
 "nbformat_minor": 5
}
